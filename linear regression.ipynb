{
  "nbformat": 4,
  "nbformat_minor": 0,
  "metadata": {
    "colab": {
      "provenance": [],
      "authorship_tag": "ABX9TyMZ0W6W3fPj6pqYlNtSR7wD",
      "include_colab_link": true
    },
    "kernelspec": {
      "name": "python3",
      "display_name": "Python 3"
    },
    "language_info": {
      "name": "python"
    }
  },
  "cells": [
    {
      "cell_type": "markdown",
      "metadata": {
        "id": "view-in-github",
        "colab_type": "text"
      },
      "source": [
        "<a href=\"https://colab.research.google.com/github/Deepakagnihotri2510/Ml_assignment/blob/main/linear%20regression.ipynb\" target=\"_parent\"><img src=\"https://colab.research.google.com/assets/colab-badge.svg\" alt=\"Open In Colab\"/></a>"
      ]
    },
    {
      "cell_type": "code",
      "execution_count": 1,
      "metadata": {
        "colab": {
          "base_uri": "https://localhost:8080/"
        },
        "id": "P7sfoSKg3Cf3",
        "outputId": "6836f1d3-d6ad-43a2-a286-ceb062df24b8"
      },
      "outputs": [
        {
          "output_type": "stream",
          "name": "stdout",
          "text": [
            "Enter years of experience: 5\n",
            "Predicted Salary for 5.0 years of experience: $52,043.10\n",
            "Mean Squared Error: 263451.248513669\n"
          ]
        }
      ],
      "source": [
        "\n",
        "# Step 1: Import necessary libraries\n",
        "import pandas as pd\n",
        "import numpy as np\n",
        "from sklearn.model_selection import train_test_split\n",
        "from sklearn.linear_model import LinearRegression\n",
        "from sklearn.metrics import mean_squared_error\n",
        "\n",
        "# Step 2: Create a sample dataset\n",
        "# Define the data as a dictionary\n",
        "data = {\n",
        "    'YearsExperience': [1, 2, 3, 4, 5, 6, 7, 8, 9, 10],\n",
        "    'Salary': [40000, 42000, 45000, 48000, 50000, 55000, 60000, 62000, 65000, 70000]\n",
        "}\n",
        "# Convert the dictionary into a DataFrame\n",
        "df = pd.DataFrame(data)\n",
        "\n",
        "# Step 3: Define features and target variable\n",
        "# Features (independent variable) - YearsExperience\n",
        "X = df[['YearsExperience']]\n",
        "# Target variable (dependent variable) - Salary\n",
        "y = df['Salary']\n",
        "\n",
        "# Step 4: Split the data into training and testing sets\n",
        "# 80% training data and 20% testing data\n",
        "X_train, X_test, y_train, y_test = train_test_split(X, y, test_size=0.2, random_state=42)\n",
        "\n",
        "# Step 5: Create and fit the linear regression model\n",
        "# Initialize the model\n",
        "model = LinearRegression()\n",
        "# Fit the model on the training data\n",
        "model.fit(X_train, y_train)\n",
        "\n",
        "# Step 6: Predict salary based on user input\n",
        "try:\n",
        "    # Get user input for years of experience\n",
        "    years_experience = float(input(\"Enter years of experience: \"))\n",
        "\n",
        "    # Create a DataFrame for the input\n",
        "    input_df = pd.DataFrame({'YearsExperience': [years_experience]})\n",
        "\n",
        "    # Predict the salary\n",
        "    predicted_salary = model.predict(input_df)\n",
        "\n",
        "    # Print the predicted salary\n",
        "    print(f\"Predicted Salary for {years_experience} years of experience: ${predicted_salary[0]:,.2f}\")\n",
        "\n",
        "except ValueError:\n",
        "    print(\"Invalid input. Please enter a numerical value for years of experience.\")\n",
        "\n",
        "# Step 7: Make predictions on the test set\n",
        "# Predict salary values for the test set\n",
        "y_pred = model.predict(X_test)\n",
        "\n",
        "# Step 8: Calculate Mean Squared Error\n",
        "# Calculate the mean squared error of the model's predictions\n",
        "mse = mean_squared_error(y_test, y_pred)\n",
        "\n",
        "# Step 9: Print the Mean Squared Error\n",
        "print(\"Mean Squared Error:\", mse)"
      ]
    }
  ]
}